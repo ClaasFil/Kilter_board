{
 "cells": [
  {
   "cell_type": "code",
   "execution_count": 5,
   "metadata": {
    "colab": {
     "base_uri": "https://localhost:8080/"
    },
    "executionInfo": {
     "elapsed": 1564,
     "status": "ok",
     "timestamp": 1758094754474,
     "user": {
      "displayName": "Fritz Hocker",
      "userId": "14167107387628010693"
     },
     "user_tz": -120
    },
    "id": "pAMoEf3zi8T7",
    "outputId": "56c96983-3b68-46c3-fb39-785610091697"
   },
   "outputs": [],
   "source": [
    "\n",
    "import sqlite3, json, os\n",
    "import pandas as pd\n",
    "\n",
    "\n",
    "\n",
    "\n"
   ]
  },
  {
   "cell_type": "markdown",
   "metadata": {
    "id": "wecq4pW_nqzb"
   },
   "source": [
    "## Loading the Static Data into a Database\n",
    "\n",
    "This process is run once to initialize the database on local drive.\n",
    "\n",
    "The database file can be accessed directly afterward without reloading the JSON files.\n",
    "\n",
    "Existing tables are recreated (overwritten) during the initial load, but since the static data does not change, this has no effect on later usage.\n"
   ]
  },
  {
   "cell_type": "code",
   "execution_count": null,
   "metadata": {
    "executionInfo": {
     "elapsed": 54,
     "status": "ok",
     "timestamp": 1758094754475,
     "user": {
      "displayName": "Fritz Hocker",
      "userId": "14167107387628010693"
     },
     "user_tz": -120
    },
    "id": "cIrtOppxi_1b"
   },
   "outputs": [],
   "source": [
    "\n"
   ]
  },
  {
   "cell_type": "code",
   "execution_count": 6,
   "metadata": {
    "executionInfo": {
     "elapsed": 49,
     "status": "ok",
     "timestamp": 1758094754478,
     "user": {
      "displayName": "Fritz Hocker",
      "userId": "14167107387628010693"
     },
     "user_tz": -120
    },
    "id": "3bRgQCzGjDHr"
   },
   "outputs": [],
   "source": [
    "\n",
    "\n",
    "\n",
    "db_path = \"/home/fillies/Documents/moon/kilter/data/static.db\"\n",
    "conn = sqlite3.connect(db_path)\n",
    "cur = conn.cursor()\n",
    "\n"
   ]
  },
  {
   "cell_type": "code",
   "execution_count": 7,
   "metadata": {
    "colab": {
     "base_uri": "https://localhost:8080/"
    },
    "executionInfo": {
     "elapsed": 161,
     "status": "ok",
     "timestamp": 1758094754599,
     "user": {
      "displayName": "Fritz Hocker",
      "userId": "14167107387628010693"
     },
     "user_tz": -120
    },
    "id": "SGbG7yYojDfk",
    "outputId": "f1a603df-06c2-45df-f7a6-ffbfb1959043"
   },
   "outputs": [
    {
     "data": {
      "text/plain": [
       "<sqlite3.Cursor at 0x70d4ced415c0>"
      ]
     },
     "execution_count": 7,
     "metadata": {},
     "output_type": "execute_result"
    }
   ],
   "source": [
    "cur.executescript(\"\"\"\n",
    "DROP TABLE IF EXISTS id_to_token;\n",
    "DROP TABLE IF EXISTS token_to_id;\n",
    "DROP TABLE IF EXISTS placements;\n",
    "DROP TABLE IF EXISTS roles;\n",
    "DROP TABLE IF EXISTS leds;\n",
    "DROP TABLE IF EXISTS layouts;\n",
    "\n",
    "CREATE TABLE id_to_token (id INTEGER PRIMARY KEY, token TEXT);\n",
    "CREATE TABLE token_to_id (token TEXT PRIMARY KEY, id INTEGER);\n",
    "CREATE TABLE placements (token_id INTEGER PRIMARY KEY, set_id INTEGER, x INTEGER, y INTEGER);\n",
    "CREATE TABLE roles (role_id INTEGER PRIMARY KEY, name TEXT, color TEXT);\n",
    "CREATE TABLE leds (led_id INTEGER, product_size_id INTEGER, position INTEGER,\n",
    "                   PRIMARY KEY (led_id, product_size_id, position));\n",
    "CREATE TABLE layouts (\n",
    "  layout_name TEXT PRIMARY KEY,\n",
    "  width INTEGER, height INTEGER,\n",
    "  edge_left INTEGER, edge_right INTEGER,\n",
    "  edge_bottom INTEGER, edge_top INTEGER\n",
    ");\n",
    "\"\"\")"
   ]
  },
  {
   "cell_type": "code",
   "execution_count": 66,
   "metadata": {
    "executionInfo": {
     "elapsed": 34,
     "status": "ok",
     "timestamp": 1758094963398,
     "user": {
      "displayName": "Fritz Hocker",
      "userId": "14167107387628010693"
     },
     "user_tz": -120
    },
    "id": "0-UtP-HSjDik"
   },
   "outputs": [],
   "source": [
    "\n",
    "\n"
   ]
  },
  {
   "cell_type": "code",
   "execution_count": 8,
   "metadata": {
    "colab": {
     "base_uri": "https://localhost:8080/"
    },
    "executionInfo": {
     "elapsed": 93,
     "status": "ok",
     "timestamp": 1758094754811,
     "user": {
      "displayName": "Fritz Hocker",
      "userId": "14167107387628010693"
     },
     "user_tz": -120
    },
    "id": "54QNcw2TjDle",
    "outputId": "01b6fe98-8485-4ec2-9258-4d3518c5d281"
   },
   "outputs": [
    {
     "name": "stdout",
     "output_type": "stream",
     "text": [
      "✅ All JSON files loaded into SQLite database!\n"
     ]
    }
   ],
   "source": [
    "def load_json(path):\n",
    "    with open(path) as f:\n",
    "        return json.load(f)\n",
    "static_base = \"/home/fillies/Documents/moon/kilter/static\"\n",
    "\n",
    "# id_to_token.json\n",
    "data = load_json(os.path.join(static_base, \"id_to_token.json\"))\n",
    "cur.executemany(\"INSERT INTO id_to_token VALUES (?, ?)\", [(int(k), v) for k,v in data.items()])\n",
    "\n",
    "# token_to_id.json\n",
    "data = load_json(os.path.join(static_base, \"token_to_id.json\"))\n",
    "cur.executemany(\"INSERT INTO token_to_id VALUES (?, ?)\", [(k, int(v)) for k,v in data.items()])\n",
    "\n",
    "# placements.json\n",
    "data = load_json(os.path.join(static_base, \"placements.json\"))\n",
    "cur.executemany(\"INSERT INTO placements VALUES (?, ?, ?, ?)\", [(int(k), v[\"set\"], v[\"x\"], v[\"y\"]) for k,v in data.items()])\n",
    "\n",
    "# roles.json\n",
    "data = load_json(os.path.join(static_base, \"roles.json\"))\n",
    "cur.executemany(\"INSERT INTO roles VALUES (?, ?, ?)\", [(int(k), v[\"name\"], v[\"color\"]) for k,v in data.items()])\n",
    "\n",
    "# leds.json (nested arrays)\n",
    "data = load_json(os.path.join(static_base, \"leds.json\"))\n",
    "rows = []\n",
    "for led_id, entries in data.items():\n",
    "    for entry in entries:\n",
    "        rows.append((int(led_id), entry[\"product_size_id\"], entry[\"position\"]))\n",
    "cur.executemany(\"INSERT INTO leds VALUES (?, ?, ?)\", rows)\n",
    "\n",
    "# layoutInfo.json\n",
    "data = load_json(os.path.join(static_base, \"layoutInfo.json\"))\n",
    "cur.executemany(\"INSERT INTO layouts VALUES (?, ?, ?, ?, ?, ?, ?)\",\n",
    "                [(v[\"name\"], v[\"width\"], v[\"height\"], v[\"edge_left\"], v[\"edge_right\"], v[\"edge_bottom\"], v[\"edge_top\"])\n",
    "                 for v in data.values()])\n",
    "\n",
    "conn.commit()\n",
    "print(\"✅ All JSON files loaded into SQLite database!\")"
   ]
  },
  {
   "cell_type": "code",
   "execution_count": 62,
   "metadata": {
    "executionInfo": {
     "elapsed": 8,
     "status": "ok",
     "timestamp": 1758094754827,
     "user": {
      "displayName": "Fritz Hocker",
      "userId": "14167107387628010693"
     },
     "user_tz": -120
    },
    "id": "Mgbl-KZpjDns"
   },
   "outputs": [],
   "source": []
  },
  {
   "cell_type": "code",
   "execution_count": null,
   "metadata": {
    "colab": {
     "base_uri": "https://localhost:8080/"
    },
    "executionInfo": {
     "elapsed": 49,
     "status": "ok",
     "timestamp": 1758094754882,
     "user": {
      "displayName": "Fritz Hocker",
      "userId": "14167107387628010693"
     },
     "user_tz": -120
    },
    "id": "6SKF6mjXjDqt",
    "outputId": "915929a0-27e6-40cc-80e3-f4be5f1e5190"
   },
   "outputs": [],
   "source": [
    "\n"
   ]
  },
  {
   "cell_type": "code",
   "execution_count": 10,
   "metadata": {
    "colab": {
     "base_uri": "https://localhost:8080/",
     "height": 238
    },
    "executionInfo": {
     "elapsed": 38,
     "status": "ok",
     "timestamp": 1758094754967,
     "user": {
      "displayName": "Fritz Hocker",
      "userId": "14167107387628010693"
     },
     "user_tz": -120
    },
    "id": "58SbWSSXjDtO",
    "outputId": "e3a86e6f-e5db-4ab7-95e9-4a553cf1e519"
   },
   "outputs": [
    {
     "data": {
      "text/html": [
       "<div>\n",
       "<style scoped>\n",
       "    .dataframe tbody tr th:only-of-type {\n",
       "        vertical-align: middle;\n",
       "    }\n",
       "\n",
       "    .dataframe tbody tr th {\n",
       "        vertical-align: top;\n",
       "    }\n",
       "\n",
       "    .dataframe thead th {\n",
       "        text-align: right;\n",
       "    }\n",
       "</style>\n",
       "<table border=\"1\" class=\"dataframe\">\n",
       "  <thead>\n",
       "    <tr style=\"text-align: right;\">\n",
       "      <th></th>\n",
       "      <th>name</th>\n",
       "    </tr>\n",
       "  </thead>\n",
       "  <tbody>\n",
       "    <tr>\n",
       "      <th>0</th>\n",
       "      <td>id_to_token</td>\n",
       "    </tr>\n",
       "    <tr>\n",
       "      <th>1</th>\n",
       "      <td>token_to_id</td>\n",
       "    </tr>\n",
       "    <tr>\n",
       "      <th>2</th>\n",
       "      <td>placements</td>\n",
       "    </tr>\n",
       "    <tr>\n",
       "      <th>3</th>\n",
       "      <td>roles</td>\n",
       "    </tr>\n",
       "    <tr>\n",
       "      <th>4</th>\n",
       "      <td>leds</td>\n",
       "    </tr>\n",
       "    <tr>\n",
       "      <th>5</th>\n",
       "      <td>layouts</td>\n",
       "    </tr>\n",
       "  </tbody>\n",
       "</table>\n",
       "</div>"
      ],
      "text/plain": [
       "          name\n",
       "0  id_to_token\n",
       "1  token_to_id\n",
       "2   placements\n",
       "3        roles\n",
       "4         leds\n",
       "5      layouts"
      ]
     },
     "execution_count": 10,
     "metadata": {},
     "output_type": "execute_result"
    }
   ],
   "source": [
    "tables = pd.read_sql_query(\n",
    "    \"SELECT name FROM sqlite_master WHERE type='table';\", conn\n",
    ")\n",
    "tables\n",
    "\n"
   ]
  },
  {
   "cell_type": "code",
   "execution_count": 11,
   "metadata": {
    "colab": {
     "base_uri": "https://localhost:8080/",
     "height": 1000
    },
    "executionInfo": {
     "elapsed": 516,
     "status": "ok",
     "timestamp": 1758094755489,
     "user": {
      "displayName": "Fritz Hocker",
      "userId": "14167107387628010693"
     },
     "user_tz": -120
    },
    "id": "kcLePhMHjDwR",
    "outputId": "8722e8c2-a12a-4abe-dc2d-d8fd27781b7d"
   },
   "outputs": [
    {
     "name": "stdout",
     "output_type": "stream",
     "text": [
      "\n",
      "🔹 Table: id_to_token\n"
     ]
    },
    {
     "data": {
      "text/html": [
       "<div>\n",
       "<style scoped>\n",
       "    .dataframe tbody tr th:only-of-type {\n",
       "        vertical-align: middle;\n",
       "    }\n",
       "\n",
       "    .dataframe tbody tr th {\n",
       "        vertical-align: top;\n",
       "    }\n",
       "\n",
       "    .dataframe thead th {\n",
       "        text-align: right;\n",
       "    }\n",
       "</style>\n",
       "<table border=\"1\" class=\"dataframe\">\n",
       "  <thead>\n",
       "    <tr style=\"text-align: right;\">\n",
       "      <th></th>\n",
       "      <th>id</th>\n",
       "      <th>token</th>\n",
       "    </tr>\n",
       "  </thead>\n",
       "  <tbody>\n",
       "    <tr>\n",
       "      <th>0</th>\n",
       "      <td>0</td>\n",
       "      <td>&lt;SOS&gt;</td>\n",
       "    </tr>\n",
       "    <tr>\n",
       "      <th>1</th>\n",
       "      <td>1</td>\n",
       "      <td>&lt;EOS&gt;</td>\n",
       "    </tr>\n",
       "    <tr>\n",
       "      <th>2</th>\n",
       "      <td>2</td>\n",
       "      <td>&lt;PAD&gt;</td>\n",
       "    </tr>\n",
       "    <tr>\n",
       "      <th>3</th>\n",
       "      <td>3</td>\n",
       "      <td>p1447</td>\n",
       "    </tr>\n",
       "    <tr>\n",
       "      <th>4</th>\n",
       "      <td>4</td>\n",
       "      <td>p1073</td>\n",
       "    </tr>\n",
       "  </tbody>\n",
       "</table>\n",
       "</div>"
      ],
      "text/plain": [
       "   id  token\n",
       "0   0  <SOS>\n",
       "1   1  <EOS>\n",
       "2   2  <PAD>\n",
       "3   3  p1447\n",
       "4   4  p1073"
      ]
     },
     "metadata": {},
     "output_type": "display_data"
    },
    {
     "name": "stdout",
     "output_type": "stream",
     "text": [
      "\n",
      "🔹 Table: token_to_id\n"
     ]
    },
    {
     "data": {
      "text/html": [
       "<div>\n",
       "<style scoped>\n",
       "    .dataframe tbody tr th:only-of-type {\n",
       "        vertical-align: middle;\n",
       "    }\n",
       "\n",
       "    .dataframe tbody tr th {\n",
       "        vertical-align: top;\n",
       "    }\n",
       "\n",
       "    .dataframe thead th {\n",
       "        text-align: right;\n",
       "    }\n",
       "</style>\n",
       "<table border=\"1\" class=\"dataframe\">\n",
       "  <thead>\n",
       "    <tr style=\"text-align: right;\">\n",
       "      <th></th>\n",
       "      <th>token</th>\n",
       "      <th>id</th>\n",
       "    </tr>\n",
       "  </thead>\n",
       "  <tbody>\n",
       "    <tr>\n",
       "      <th>0</th>\n",
       "      <td>&lt;SOS&gt;</td>\n",
       "      <td>0</td>\n",
       "    </tr>\n",
       "    <tr>\n",
       "      <th>1</th>\n",
       "      <td>&lt;EOS&gt;</td>\n",
       "      <td>1</td>\n",
       "    </tr>\n",
       "    <tr>\n",
       "      <th>2</th>\n",
       "      <td>&lt;PAD&gt;</td>\n",
       "      <td>2</td>\n",
       "    </tr>\n",
       "    <tr>\n",
       "      <th>3</th>\n",
       "      <td>p1447</td>\n",
       "      <td>3</td>\n",
       "    </tr>\n",
       "    <tr>\n",
       "      <th>4</th>\n",
       "      <td>p1073</td>\n",
       "      <td>4</td>\n",
       "    </tr>\n",
       "  </tbody>\n",
       "</table>\n",
       "</div>"
      ],
      "text/plain": [
       "   token  id\n",
       "0  <SOS>   0\n",
       "1  <EOS>   1\n",
       "2  <PAD>   2\n",
       "3  p1447   3\n",
       "4  p1073   4"
      ]
     },
     "metadata": {},
     "output_type": "display_data"
    },
    {
     "name": "stdout",
     "output_type": "stream",
     "text": [
      "\n",
      "🔹 Table: placements\n"
     ]
    },
    {
     "data": {
      "text/html": [
       "<div>\n",
       "<style scoped>\n",
       "    .dataframe tbody tr th:only-of-type {\n",
       "        vertical-align: middle;\n",
       "    }\n",
       "\n",
       "    .dataframe tbody tr th {\n",
       "        vertical-align: top;\n",
       "    }\n",
       "\n",
       "    .dataframe thead th {\n",
       "        text-align: right;\n",
       "    }\n",
       "</style>\n",
       "<table border=\"1\" class=\"dataframe\">\n",
       "  <thead>\n",
       "    <tr style=\"text-align: right;\">\n",
       "      <th></th>\n",
       "      <th>token_id</th>\n",
       "      <th>set_id</th>\n",
       "      <th>x</th>\n",
       "      <th>y</th>\n",
       "    </tr>\n",
       "  </thead>\n",
       "  <tbody>\n",
       "    <tr>\n",
       "      <th>0</th>\n",
       "      <td>1073</td>\n",
       "      <td>1</td>\n",
       "      <td>136</td>\n",
       "      <td>8</td>\n",
       "    </tr>\n",
       "    <tr>\n",
       "      <th>1</th>\n",
       "      <td>1074</td>\n",
       "      <td>1</td>\n",
       "      <td>128</td>\n",
       "      <td>8</td>\n",
       "    </tr>\n",
       "    <tr>\n",
       "      <th>2</th>\n",
       "      <td>1075</td>\n",
       "      <td>1</td>\n",
       "      <td>120</td>\n",
       "      <td>8</td>\n",
       "    </tr>\n",
       "    <tr>\n",
       "      <th>3</th>\n",
       "      <td>1076</td>\n",
       "      <td>1</td>\n",
       "      <td>112</td>\n",
       "      <td>8</td>\n",
       "    </tr>\n",
       "    <tr>\n",
       "      <th>4</th>\n",
       "      <td>1077</td>\n",
       "      <td>1</td>\n",
       "      <td>104</td>\n",
       "      <td>8</td>\n",
       "    </tr>\n",
       "  </tbody>\n",
       "</table>\n",
       "</div>"
      ],
      "text/plain": [
       "   token_id  set_id    x  y\n",
       "0      1073       1  136  8\n",
       "1      1074       1  128  8\n",
       "2      1075       1  120  8\n",
       "3      1076       1  112  8\n",
       "4      1077       1  104  8"
      ]
     },
     "metadata": {},
     "output_type": "display_data"
    },
    {
     "name": "stdout",
     "output_type": "stream",
     "text": [
      "\n",
      "🔹 Table: roles\n"
     ]
    },
    {
     "data": {
      "text/html": [
       "<div>\n",
       "<style scoped>\n",
       "    .dataframe tbody tr th:only-of-type {\n",
       "        vertical-align: middle;\n",
       "    }\n",
       "\n",
       "    .dataframe tbody tr th {\n",
       "        vertical-align: top;\n",
       "    }\n",
       "\n",
       "    .dataframe thead th {\n",
       "        text-align: right;\n",
       "    }\n",
       "</style>\n",
       "<table border=\"1\" class=\"dataframe\">\n",
       "  <thead>\n",
       "    <tr style=\"text-align: right;\">\n",
       "      <th></th>\n",
       "      <th>role_id</th>\n",
       "      <th>name</th>\n",
       "      <th>color</th>\n",
       "    </tr>\n",
       "  </thead>\n",
       "  <tbody>\n",
       "    <tr>\n",
       "      <th>0</th>\n",
       "      <td>12</td>\n",
       "      <td>start</td>\n",
       "      <td>00FF00</td>\n",
       "    </tr>\n",
       "    <tr>\n",
       "      <th>1</th>\n",
       "      <td>13</td>\n",
       "      <td>middle</td>\n",
       "      <td>00FFFF</td>\n",
       "    </tr>\n",
       "    <tr>\n",
       "      <th>2</th>\n",
       "      <td>14</td>\n",
       "      <td>finish</td>\n",
       "      <td>FF00FF</td>\n",
       "    </tr>\n",
       "    <tr>\n",
       "      <th>3</th>\n",
       "      <td>15</td>\n",
       "      <td>foot</td>\n",
       "      <td>FFA500</td>\n",
       "    </tr>\n",
       "    <tr>\n",
       "      <th>4</th>\n",
       "      <td>20</td>\n",
       "      <td>start</td>\n",
       "      <td>00FF00</td>\n",
       "    </tr>\n",
       "  </tbody>\n",
       "</table>\n",
       "</div>"
      ],
      "text/plain": [
       "   role_id    name   color\n",
       "0       12   start  00FF00\n",
       "1       13  middle  00FFFF\n",
       "2       14  finish  FF00FF\n",
       "3       15    foot  FFA500\n",
       "4       20   start  00FF00"
      ]
     },
     "metadata": {},
     "output_type": "display_data"
    },
    {
     "name": "stdout",
     "output_type": "stream",
     "text": [
      "\n",
      "🔹 Table: leds\n"
     ]
    },
    {
     "data": {
      "text/html": [
       "<div>\n",
       "<style scoped>\n",
       "    .dataframe tbody tr th:only-of-type {\n",
       "        vertical-align: middle;\n",
       "    }\n",
       "\n",
       "    .dataframe tbody tr th {\n",
       "        vertical-align: top;\n",
       "    }\n",
       "\n",
       "    .dataframe thead th {\n",
       "        text-align: right;\n",
       "    }\n",
       "</style>\n",
       "<table border=\"1\" class=\"dataframe\">\n",
       "  <thead>\n",
       "    <tr style=\"text-align: right;\">\n",
       "      <th></th>\n",
       "      <th>led_id</th>\n",
       "      <th>product_size_id</th>\n",
       "      <th>position</th>\n",
       "    </tr>\n",
       "  </thead>\n",
       "  <tbody>\n",
       "    <tr>\n",
       "      <th>0</th>\n",
       "      <td>1133</td>\n",
       "      <td>7</td>\n",
       "      <td>0</td>\n",
       "    </tr>\n",
       "    <tr>\n",
       "      <th>1</th>\n",
       "      <td>1133</td>\n",
       "      <td>10</td>\n",
       "      <td>0</td>\n",
       "    </tr>\n",
       "    <tr>\n",
       "      <th>2</th>\n",
       "      <td>1133</td>\n",
       "      <td>28</td>\n",
       "      <td>6</td>\n",
       "    </tr>\n",
       "    <tr>\n",
       "      <th>3</th>\n",
       "      <td>1134</td>\n",
       "      <td>7</td>\n",
       "      <td>1</td>\n",
       "    </tr>\n",
       "    <tr>\n",
       "      <th>4</th>\n",
       "      <td>1134</td>\n",
       "      <td>10</td>\n",
       "      <td>1</td>\n",
       "    </tr>\n",
       "  </tbody>\n",
       "</table>\n",
       "</div>"
      ],
      "text/plain": [
       "   led_id  product_size_id  position\n",
       "0    1133                7         0\n",
       "1    1133               10         0\n",
       "2    1133               28         6\n",
       "3    1134                7         1\n",
       "4    1134               10         1"
      ]
     },
     "metadata": {},
     "output_type": "display_data"
    },
    {
     "name": "stdout",
     "output_type": "stream",
     "text": [
      "\n",
      "🔹 Table: layouts\n"
     ]
    },
    {
     "data": {
      "text/html": [
       "<div>\n",
       "<style scoped>\n",
       "    .dataframe tbody tr th:only-of-type {\n",
       "        vertical-align: middle;\n",
       "    }\n",
       "\n",
       "    .dataframe tbody tr th {\n",
       "        vertical-align: top;\n",
       "    }\n",
       "\n",
       "    .dataframe thead th {\n",
       "        text-align: right;\n",
       "    }\n",
       "</style>\n",
       "<table border=\"1\" class=\"dataframe\">\n",
       "  <thead>\n",
       "    <tr style=\"text-align: right;\">\n",
       "      <th></th>\n",
       "      <th>layout_name</th>\n",
       "      <th>width</th>\n",
       "      <th>height</th>\n",
       "      <th>edge_left</th>\n",
       "      <th>edge_right</th>\n",
       "      <th>edge_bottom</th>\n",
       "      <th>edge_top</th>\n",
       "    </tr>\n",
       "  </thead>\n",
       "  <tbody>\n",
       "    <tr>\n",
       "      <th>0</th>\n",
       "      <td>8x12Home</td>\n",
       "      <td>1080</td>\n",
       "      <td>1755</td>\n",
       "      <td>24</td>\n",
       "      <td>120</td>\n",
       "      <td>0</td>\n",
       "      <td>156</td>\n",
       "    </tr>\n",
       "    <tr>\n",
       "      <th>1</th>\n",
       "      <td>7x10Small</td>\n",
       "      <td>1080</td>\n",
       "      <td>1473</td>\n",
       "      <td>28</td>\n",
       "      <td>116</td>\n",
       "      <td>36</td>\n",
       "      <td>156</td>\n",
       "    </tr>\n",
       "    <tr>\n",
       "      <th>2</th>\n",
       "      <td>7x10FullRideLEDKit</td>\n",
       "      <td>1080</td>\n",
       "      <td>1473</td>\n",
       "      <td>-44</td>\n",
       "      <td>44</td>\n",
       "      <td>24</td>\n",
       "      <td>144</td>\n",
       "    </tr>\n",
       "    <tr>\n",
       "      <th>3</th>\n",
       "      <td>7x10MainlineLEDKit</td>\n",
       "      <td>1080</td>\n",
       "      <td>1473</td>\n",
       "      <td>-44</td>\n",
       "      <td>44</td>\n",
       "      <td>24</td>\n",
       "      <td>144</td>\n",
       "    </tr>\n",
       "    <tr>\n",
       "      <th>4</th>\n",
       "      <td>7x10AuxiliaryLEDKit</td>\n",
       "      <td>1080</td>\n",
       "      <td>1473</td>\n",
       "      <td>-44</td>\n",
       "      <td>44</td>\n",
       "      <td>24</td>\n",
       "      <td>144</td>\n",
       "    </tr>\n",
       "  </tbody>\n",
       "</table>\n",
       "</div>"
      ],
      "text/plain": [
       "           layout_name  width  height  edge_left  edge_right  edge_bottom  \\\n",
       "0             8x12Home   1080    1755         24         120            0   \n",
       "1            7x10Small   1080    1473         28         116           36   \n",
       "2   7x10FullRideLEDKit   1080    1473        -44          44           24   \n",
       "3   7x10MainlineLEDKit   1080    1473        -44          44           24   \n",
       "4  7x10AuxiliaryLEDKit   1080    1473        -44          44           24   \n",
       "\n",
       "   edge_top  \n",
       "0       156  \n",
       "1       156  \n",
       "2       144  \n",
       "3       144  \n",
       "4       144  "
      ]
     },
     "metadata": {},
     "output_type": "display_data"
    }
   ],
   "source": [
    "for table in tables['name']:\n",
    "    print(f\"\\n🔹 Table: {table}\")\n",
    "    df = pd.read_sql_query(f\"SELECT * FROM {table} LIMIT 5;\", conn)\n",
    "    display(df)"
   ]
  },
  {
   "cell_type": "code",
   "execution_count": 12,
   "metadata": {
    "executionInfo": {
     "elapsed": 43,
     "status": "ok",
     "timestamp": 1758094755529,
     "user": {
      "displayName": "Fritz Hocker",
      "userId": "14167107387628010693"
     },
     "user_tz": -120
    },
    "id": "PhwKu-GBjDzB"
   },
   "outputs": [],
   "source": [
    "conn.close()"
   ]
  },
  {
   "cell_type": "code",
   "execution_count": null,
   "metadata": {},
   "outputs": [],
   "source": []
  }
 ],
 "metadata": {
  "colab": {
   "authorship_tag": "ABX9TyMHeSRyTIv7NaA2rNt/B86e",
   "provenance": []
  },
  "kernelspec": {
   "display_name": ".venv",
   "language": "python",
   "name": "python3"
  },
  "language_info": {
   "codemirror_mode": {
    "name": "ipython",
    "version": 3
   },
   "file_extension": ".py",
   "mimetype": "text/x-python",
   "name": "python",
   "nbconvert_exporter": "python",
   "pygments_lexer": "ipython3",
   "version": "3.12.3"
  }
 },
 "nbformat": 4,
 "nbformat_minor": 0
}
